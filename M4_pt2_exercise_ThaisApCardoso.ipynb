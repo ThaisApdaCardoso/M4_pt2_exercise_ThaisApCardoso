{
  "cells": [
    {
      "cell_type": "markdown",
      "metadata": {
        "id": "njUvbhQmC8-t"
      },
      "source": [
        "## Exercício 1: Vestibular\n",
        "\n",
        "Considere que a os dados gerados na célula abaixo contêm o número de acertos de 100 alunos em um vestibular para um curso de exatas, divididas pelos respectivos assuntos. Considere que cada assunto possui um número de questões conforme a tabela abaixo:\n",
        "\n",
        "| assunto | número de questões |\n",
        "|:---:|:---:|\n",
        "| Matemática | 24 |\n",
        "| Português | 18 |\n",
        "| Geografia | 8 |\n",
        "| Inglês | 8 |\n",
        "| História | 8 |\n",
        "| Física | 12 |\n",
        "| Química | 12 |\n",
        "\n",
        "Usando os comandos de operações com DataFrames que você aprendeu na Aula 03, calcule:\n",
        "\n",
        "1. (operações com escalar) Calcule o percentual de acerto dos alunos por assunto.  \n",
        "2. (operações entre *DataFrames) Calcule o total de acertos de cada aluno.  \n",
        "3. Calcule o porcentual geral de cada aluno.  \n",
        "4. Suponha que a nota de corte para a segunda fase seja 45. Quantos alunos tiveram nota maior que 45?  "
      ]
    },
    {
      "cell_type": "code",
      "execution_count": 5,
      "metadata": {
        "id": "Ll6TadxCC8-y"
      },
      "outputs": [],
      "source": [
        "import pandas as pd\n",
        "import numpy as np\n",
        "\n",
        "np.random.seed(42)\n",
        "df_mat = pd.DataFrame(np.random.randint(24, size=(100, 1)), columns=['Qt_acertos_mat'])\n",
        "\n",
        "df_por = pd.DataFrame(np.random.randint(18, size=(100, 1)), columns=['Qt_acertos_por'])\n",
        "\n",
        "df_geo = pd.DataFrame(np.random.randint(8, size=(100, 1)), columns=['Qt_acertos_geo'])\n",
        "\n",
        "df_ing = pd.DataFrame(np.random.randint(8, size=(100, 1)), columns=['Qt_acertos_ing'])\n",
        "\n",
        "df_his = pd.DataFrame(np.random.randint(8, size=(100, 1)), columns=['Qt_acertos_his'])\n",
        "\n",
        "df_fis = pd.DataFrame(np.random.randint(12, size=(100, 1)), columns=['Qt_acertos_fis'])\n",
        "\n",
        "df_qui = pd.DataFrame(np.random.randint(12, size=(100, 1)), columns=['Qt_acertos_qui'])"
      ]
    },
    {
      "cell_type": "code",
      "execution_count": 5,
      "metadata": {
        "id": "JVmLXiC2C8-0",
        "colab": {
          "base_uri": "https://localhost:8080/"
        },
        "outputId": "bb88136e-c5dc-4a92-b203-609e8347cb7e"
      },
      "outputs": [
        {
          "output_type": "stream",
          "name": "stdout",
          "text": [
            "Dados de acertos dos alunos por assunto:\n",
            "     Qt_acertos_mat  Qt_acertos_por  Qt_acertos_geo  Qt_acertos_ing  \\\n",
            "0                6               7               7               3   \n",
            "1               19              10               0               0   \n",
            "2               14              16               0               5   \n",
            "3               10               7               3               4   \n",
            "4                7               2               2               7   \n",
            "..             ...             ...             ...             ...   \n",
            "95               6               4               7               1   \n",
            "96               8               1               4               6   \n",
            "97              23               5               0               2   \n",
            "98               0              10               3               1   \n",
            "99              11              15               0               1   \n",
            "\n",
            "    Qt_acertos_his  Qt_acertos_fis  Qt_acertos_qui  \n",
            "0                1               8               3  \n",
            "1                0              11               8  \n",
            "2                7               4               4  \n",
            "3                0               0               8  \n",
            "4                0               9               3  \n",
            "..             ...             ...             ...  \n",
            "95               4               9               3  \n",
            "96               1               4               3  \n",
            "97               4               1               5  \n",
            "98               5              10              11  \n",
            "99               6               7               2  \n",
            "\n",
            "[100 rows x 7 columns]\n"
          ]
        }
      ],
      "source": [
        "# 1) Seu código aqui\n",
        "\n",
        "df_acertos = pd.concat([df_mat, df_por, df_geo, df_ing, df_his, df_fis, df_qui], axis=1)\n",
        "print(\"Dados de acertos dos alunos por assunto:\\n\", df_acertos)\n"
      ]
    },
    {
      "cell_type": "code",
      "source": [
        "num_questoes = {\n",
        "    \"Matemática\": 24,\n",
        "    \"Português\": 18,\n",
        "    \"Geografia\": 8,\n",
        "    \"Inglês\": 8,\n",
        "    \"História\": 8,\n",
        "    \"Física\": 12,\n",
        "    \"Química\": 12\n",
        "}\n",
        "\n",
        "percentual_acertos = df_acertos.div(list(num_questoes.values()), axis=1) * 100\n",
        "print(\"\\nPercentual de acerto dos alunos por assunto:\\n\", percentual_acertos)"
      ],
      "metadata": {
        "colab": {
          "base_uri": "https://localhost:8080/"
        },
        "id": "lDs00rRs9cJ-",
        "outputId": "8401ff37-7b41-43ff-a8e0-4c36e48b42ca"
      },
      "execution_count": 6,
      "outputs": [
        {
          "output_type": "stream",
          "name": "stdout",
          "text": [
            "\n",
            "Percentual de acerto dos alunos por assunto:\n",
            "     Qt_acertos_mat  Qt_acertos_por  Qt_acertos_geo  Qt_acertos_ing  \\\n",
            "0        25.000000       38.888889            87.5            37.5   \n",
            "1        79.166667       55.555556             0.0             0.0   \n",
            "2        58.333333       88.888889             0.0            62.5   \n",
            "3        41.666667       38.888889            37.5            50.0   \n",
            "4        29.166667       11.111111            25.0            87.5   \n",
            "..             ...             ...             ...             ...   \n",
            "95       25.000000       22.222222            87.5            12.5   \n",
            "96       33.333333        5.555556            50.0            75.0   \n",
            "97       95.833333       27.777778             0.0            25.0   \n",
            "98        0.000000       55.555556            37.5            12.5   \n",
            "99       45.833333       83.333333             0.0            12.5   \n",
            "\n",
            "    Qt_acertos_his  Qt_acertos_fis  Qt_acertos_qui  \n",
            "0             12.5       66.666667       25.000000  \n",
            "1              0.0       91.666667       66.666667  \n",
            "2             87.5       33.333333       33.333333  \n",
            "3              0.0        0.000000       66.666667  \n",
            "4              0.0       75.000000       25.000000  \n",
            "..             ...             ...             ...  \n",
            "95            50.0       75.000000       25.000000  \n",
            "96            12.5       33.333333       25.000000  \n",
            "97            50.0        8.333333       41.666667  \n",
            "98            62.5       83.333333       91.666667  \n",
            "99            75.0       58.333333       16.666667  \n",
            "\n",
            "[100 rows x 7 columns]\n"
          ]
        }
      ]
    },
    {
      "cell_type": "code",
      "execution_count": 7,
      "metadata": {
        "id": "JbTwCyNHC8-1",
        "colab": {
          "base_uri": "https://localhost:8080/"
        },
        "outputId": "5aeac912-bdb5-4a6c-a480-5fb8cf4fe831"
      },
      "outputs": [
        {
          "output_type": "stream",
          "name": "stdout",
          "text": [
            "\n",
            "Total de acertos de cada aluno:\n",
            " 0     35\n",
            "1     48\n",
            "2     50\n",
            "3     32\n",
            "4     30\n",
            "      ..\n",
            "95    34\n",
            "96    27\n",
            "97    40\n",
            "98    40\n",
            "99    42\n",
            "Length: 100, dtype: int64\n"
          ]
        }
      ],
      "source": [
        "# 2) Seu código aqui\n",
        "\n",
        "total_acertos = df_acertos.sum(axis=1)\n",
        "print(\"\\nTotal de acertos de cada aluno:\\n\", total_acertos)"
      ]
    },
    {
      "cell_type": "code",
      "execution_count": 8,
      "metadata": {
        "id": "c2L8dJkVC8-3",
        "colab": {
          "base_uri": "https://localhost:8080/"
        },
        "outputId": "445cc912-c52b-4b7f-acbf-e103adf26d45"
      },
      "outputs": [
        {
          "output_type": "stream",
          "name": "stdout",
          "text": [
            "\n",
            "Percentual geral de acertos de cada aluno:\n",
            " 0     38.888889\n",
            "1     53.333333\n",
            "2     55.555556\n",
            "3     35.555556\n",
            "4     33.333333\n",
            "        ...    \n",
            "95    37.777778\n",
            "96    30.000000\n",
            "97    44.444444\n",
            "98    44.444444\n",
            "99    46.666667\n",
            "Length: 100, dtype: float64\n"
          ]
        }
      ],
      "source": [
        "# 3) Seu código aqui\n",
        "\n",
        "total_questoes = sum(num_questoes.values())\n",
        "\n",
        "percentual_geral = (total_acertos / total_questoes) * 100\n",
        "print(\"\\nPercentual geral de acertos de cada aluno:\\n\", percentual_geral)"
      ]
    },
    {
      "cell_type": "code",
      "execution_count": 9,
      "metadata": {
        "id": "PZTZ7DFzC8-3",
        "colab": {
          "base_uri": "https://localhost:8080/"
        },
        "outputId": "41d539d6-b257-4a59-9884-8e725a7d0a75"
      },
      "outputs": [
        {
          "output_type": "stream",
          "name": "stdout",
          "text": [
            "\n",
            "Número de alunos com nota maior que 45: 31\n"
          ]
        }
      ],
      "source": [
        "# 4) Seu código aqui\n",
        "\n",
        "nota_corte = 45\n",
        "\n",
        "num_alunos_aprovados = (total_acertos > nota_corte).sum()\n",
        "print(\"\\nNúmero de alunos com nota maior que 45:\", num_alunos_aprovados)"
      ]
    },
    {
      "cell_type": "markdown",
      "metadata": {
        "id": "Hlfl75XXC8-4"
      },
      "source": [
        "## 2) Vestibular II\n",
        "\n",
        "Ainda sobre o mesmo banco de dados:\n",
        "\n",
        "1. Neste vestibular, quem 'zera' em matemática, física ou química está desqualificado. Monte um novo *DataFrame* com os alunos desqualificados por este critério.\n",
        "2. Quantos são esses alunos?\n",
        "3. Qual a média desses alunos em história e geografia?\n",
        "4. Monte um *DataFrame* com os alunos que passaram para a segunda fase. Repare que estes alunos não podem ter sido desqualificados."
      ]
    },
    {
      "cell_type": "code",
      "execution_count": 14,
      "metadata": {
        "id": "hPaMGXvJC8-4",
        "colab": {
          "base_uri": "https://localhost:8080/"
        },
        "outputId": "87d98180-3c29-4f96-e046-8130480e90e2"
      },
      "outputs": [
        {
          "output_type": "stream",
          "name": "stdout",
          "text": [
            "Alunos desqualificados:\n",
            "     Qt_acertos_mat  Qt_acertos_por  Qt_acertos_geo  Qt_acertos_ing  \\\n",
            "3               10               7               3               4   \n",
            "6                6               0               7               7   \n",
            "10              10               8               3               2   \n",
            "12              20               8               3               7   \n",
            "14               7              11               1               7   \n",
            "20              23              11               6               5   \n",
            "25               0               4               7               4   \n",
            "26              11              14               6               2   \n",
            "27              21              13               1               5   \n",
            "33              14               8               0               5   \n",
            "35              11              14               6               3   \n",
            "49               8               1               1               0   \n",
            "56               7               6               7               5   \n",
            "65               1               8               2               4   \n",
            "66               5               4               3               6   \n",
            "72              11              16               3               4   \n",
            "73               1              16               2               4   \n",
            "74               9              11               0               7   \n",
            "84              15               1               0               5   \n",
            "89              23              11               7               7   \n",
            "92              14              10               1               6   \n",
            "94               0               5               2               6   \n",
            "98               0              10               3               1   \n",
            "\n",
            "    Qt_acertos_his  Qt_acertos_fis  Qt_acertos_qui  \n",
            "3                0               0               8  \n",
            "6                5               0               4  \n",
            "10               1               7               0  \n",
            "12               1               0               3  \n",
            "14               1               4               0  \n",
            "20               6               2               0  \n",
            "25               0               4               8  \n",
            "26               7               0               0  \n",
            "27               7               3               0  \n",
            "33               6               6               0  \n",
            "35               3               0              11  \n",
            "49               1               0               8  \n",
            "56               6               0               8  \n",
            "65               3               0               6  \n",
            "66               3               0              10  \n",
            "72               7               0               9  \n",
            "73               3               0              11  \n",
            "74               5               7               0  \n",
            "84               1               0               4  \n",
            "89               6               9               0  \n",
            "92               1               8               0  \n",
            "94               1               3               8  \n",
            "98               5              10              11  \n"
          ]
        }
      ],
      "source": [
        "# seu código aqui\n",
        "# 1)\n",
        "desqualificados = (df_acertos['Qt_acertos_mat'] == 0) | (df_acertos['Qt_acertos_fis'] == 0) | (df_acertos['Qt_acertos_qui'] == 0)\n",
        "\n",
        "df_desqualificados = df_acertos[desqualificados]\n",
        "print(\"Alunos desqualificados:\\n\", df_desqualificados)"
      ]
    },
    {
      "cell_type": "code",
      "source": [
        "# 2)\n",
        "num_desqualificados = df_desqualificados.shape[0]\n",
        "\n",
        "print(\"Número de alunos desqualificados:\", num_desqualificados)"
      ],
      "metadata": {
        "colab": {
          "base_uri": "https://localhost:8080/"
        },
        "id": "4ToJYBacCmJy",
        "outputId": "26f17196-ece1-409d-9599-f8e03a8b26ff"
      },
      "execution_count": 15,
      "outputs": [
        {
          "output_type": "stream",
          "name": "stdout",
          "text": [
            "Número de alunos desqualificados: 23\n"
          ]
        }
      ]
    },
    {
      "cell_type": "code",
      "source": [
        "# 3)\n",
        "media_hist_geo = df_desqualificados[['Qt_acertos_his', 'Qt_acertos_geo']].mean()\n",
        "\n",
        "print(\"Média dos alunos desqualificados em História e Geografia:\\n\", media_hist_geo)"
      ],
      "metadata": {
        "colab": {
          "base_uri": "https://localhost:8080/"
        },
        "id": "4EXpw_p9Cx9M",
        "outputId": "43cf8adf-309a-4e4d-c7e3-250a8cf18092"
      },
      "execution_count": 17,
      "outputs": [
        {
          "output_type": "stream",
          "name": "stdout",
          "text": [
            "Média dos alunos desqualificados em História e Geografia:\n",
            " Qt_acertos_his    3.434783\n",
            "Qt_acertos_geo    3.217391\n",
            "dtype: float64\n"
          ]
        }
      ]
    },
    {
      "cell_type": "code",
      "source": [
        "# 4)\n",
        "df_nao_desqualificados = df_acertos[~desqualificados]\n",
        "\n",
        "num_nao_desqualificados = df_nao_desqualificados.shape[0]\n",
        "\n",
        "passaram_segunda_fase = df_nao_desqualificados[total_acertos[~desqualificados] > nota_corte]\n",
        "\n",
        "print(\"Alunos que passaram para a segunda fase:\\n\", passaram_segunda_fase)\n",
        "\n",
        "print(\"Número de alunos que passaram para a segunda fase:\", passaram_segunda_fase.shape[0])\n"
      ],
      "metadata": {
        "colab": {
          "base_uri": "https://localhost:8080/"
        },
        "id": "PoRZBLG6Hnah",
        "outputId": "fa3c3fcb-1653-4d7b-fb9e-5070a7b3f201"
      },
      "execution_count": 21,
      "outputs": [
        {
          "output_type": "stream",
          "name": "stdout",
          "text": [
            "Alunos que passaram para a segunda fase:\n",
            "     Qt_acertos_mat  Qt_acertos_por  Qt_acertos_geo  Qt_acertos_ing  \\\n",
            "1               19              10               0               0   \n",
            "2               14              16               0               5   \n",
            "5               20               2               5               3   \n",
            "7               18               4               4               7   \n",
            "8               22               9               2               7   \n",
            "17              21              15               2               2   \n",
            "18              20               4               3               5   \n",
            "24              20               2               7               5   \n",
            "31              15              13               3               1   \n",
            "36              22               9               6               6   \n",
            "37              19              12               5               7   \n",
            "39               4              16               2               4   \n",
            "40              18               3               6               3   \n",
            "42              20               6               7               7   \n",
            "45              17              10               0               2   \n",
            "48              17               6               0               7   \n",
            "60              16               8               0               4   \n",
            "62              17               6               2               4   \n",
            "67              21               0               7               2   \n",
            "70              21              14               0               3   \n",
            "71              17               8               7               6   \n",
            "77              15               2               5               7   \n",
            "78              14              16               7               2   \n",
            "81              22              16               2               0   \n",
            "88              20               1               1               5   \n",
            "93              12              16               5               5   \n",
            "\n",
            "    Qt_acertos_his  Qt_acertos_fis  Qt_acertos_qui  \n",
            "1                0              11               8  \n",
            "2                7               4               4  \n",
            "5                2               9               9  \n",
            "7                7               1               8  \n",
            "8                6               5               7  \n",
            "17               4               2               6  \n",
            "18               3              11               4  \n",
            "24               3              11               2  \n",
            "31               3               9              10  \n",
            "36               1               4               8  \n",
            "37               1               6               2  \n",
            "39               6               9               8  \n",
            "40               6               5               6  \n",
            "42               2               3               3  \n",
            "45               6               9               4  \n",
            "48               5               9              11  \n",
            "60               4               7               9  \n",
            "62               7               1               9  \n",
            "67               4               2              10  \n",
            "70               5              11               8  \n",
            "71               4               2               9  \n",
            "77               6              11               7  \n",
            "78               7              11               9  \n",
            "81               4               1              10  \n",
            "88               7               9               7  \n",
            "93               6               6               6  \n",
            "Número de alunos que passaram para a segunda fase: 26\n"
          ]
        }
      ]
    },
    {
      "cell_type": "markdown",
      "metadata": {
        "id": "EGBUWpAHC8-5"
      },
      "source": [
        "## 3) Vacinações no Acre\n",
        "Vamos trabalhar agora com a base de vacinações no Acre. Para facilitar a sua vida, copiamos o link do arquivo na célula abaixo.\n",
        "\n",
        "1. Quantas vacinas estão registradas nessa base?  \n",
        "2. Quantos pacientes foram vacinados? (considere um paciente para cada valor único de ```paciente_id```)  \n",
        "3. Quantos pacientes únicos tomaram a primeira dose? OBS: Há um caractere especial neste campo. Receba os valores do campo com o método ```.unique()```.   \n",
        "4. Quantos pacientes com menos de 18 anos foram vacinados?  \n",
        "5. Quantos estabelecimentos aplicaram vacina no Acre?\n",
        "\n",
        "\n",
        "**OBS:** O portal do DATASUS pode apresentar instabilidades, retornando um erro na segunda célula abaixo. Por este motivo está disponível uma base estática, que se for baixada para o seu *working directory* pode ser lida com este comando: ```df = pd.read_csv('registros de vacinacao covid ACRE.csv', sep=';')```.\n",
        "\n",
        "**OBS2:** Para saber qual é o seu working directory, rode no jupyter: ```!pwd```."
      ]
    },
    {
      "cell_type": "code",
      "source": [
        "df = pd.read_csv('registros de vacinacao covid ACRE.csv', sep=';')\n",
        "\n",
        "print(df.head())"
      ],
      "metadata": {
        "colab": {
          "base_uri": "https://localhost:8080/"
        },
        "id": "8odJHaz3w3PS",
        "outputId": "bdd71c4b-4fc9-4ced-b5a3-75e97aab4cdb"
      },
      "execution_count": 17,
      "outputs": [
        {
          "output_type": "stream",
          "name": "stdout",
          "text": [
            "                                 document_id  \\\n",
            "0  2071824f-f030-4d00-8363-80b62cbfab20-i0b0   \n",
            "1  11e5ce1e-82cd-4c70-bc52-e59a507265fe-i0b0   \n",
            "2  3a7e8b98-8f11-4609-a39f-b3206bd16c89-i0b0   \n",
            "3  7c33b28b-780e-4a83-968b-a0d3940ae8eb-i0b0   \n",
            "4  5724dc75-3768-4839-ba6f-87b8c061db8f-i0b0   \n",
            "\n",
            "                                         paciente_id  paciente_idade  \\\n",
            "0  f33314e011df7c1f0fd3abd35e75de6b6d01165add8121...              38   \n",
            "1  32a484bda0ec0c90c5d74a42882da85f36db7e92a927b9...              73   \n",
            "2  95b64759803f846bf074db60f4e35eb31eeb64d56aa9c3...              61   \n",
            "3  73525ab29fc695a87ca0af4465983624faac52338bf701...              17   \n",
            "4  7126f7d19d7a849f2d48164cab2b97497f8f90c1d9a34f...              76   \n",
            "\n",
            "  paciente_dataNascimento paciente_enumSexoBiologico  paciente_racaCor_codigo  \\\n",
            "0              1983-03-04                          F                        4   \n",
            "1              1948-10-17                          M                        4   \n",
            "2              1962-09-25                          F                        1   \n",
            "3              2004-01-06                          F                        4   \n",
            "4              1945-08-14                          M                        1   \n",
            "\n",
            "  paciente_racaCor_valor  paciente_endereco_coIbgeMunicipio  \\\n",
            "0                AMARELA                           120040.0   \n",
            "1                AMARELA                           120040.0   \n",
            "2                 BRANCA                           120040.0   \n",
            "3                AMARELA                           120050.0   \n",
            "4                 BRANCA                           120040.0   \n",
            "\n",
            "   paciente_endereco_coPais paciente_endereco_nmMunicipio  ...  \\\n",
            "0                      10.0                    RIO BRANCO  ...   \n",
            "1                      10.0                    RIO BRANCO  ...   \n",
            "2                      10.0                    RIO BRANCO  ...   \n",
            "3                      10.0                SENA MADUREIRA  ...   \n",
            "4                      10.0                    RIO BRANCO  ...   \n",
            "\n",
            "  vacina_categoria_codigo                           vacina_categoria_nome  \\\n",
            "0                     2.0                                    Faixa Etária   \n",
            "1                     2.0                                    Faixa Etária   \n",
            "2                     2.0                                    Faixa Etária   \n",
            "3                     2.0                                    Faixa Etária   \n",
            "4                     3.0  Pessoas de 60 anos ou mais institucionalizadas   \n",
            "\n",
            "   vacina_lote vacina_fabricante_nome  vacina_fabricante_referencia  \\\n",
            "0   215VCD116W    ASTRAZENECA/FIOCRUZ   Organization/33781055000135   \n",
            "1   21PVCD368Z    ASTRAZENECA/FIOCRUZ                           149   \n",
            "2       GJ2631                 PFIZER                         28290   \n",
            "3       FG3525                 PFIZER   Organization/00394544000851   \n",
            "4       FL1939                 PFIZER            Organization/28290   \n",
            "\n",
            "  vacina_dataAplicacao vacina_descricao_dose  vacina_codigo  \\\n",
            "0           2021-06-20               1ª Dose             85   \n",
            "1           2022-07-20            2º Reforço             85   \n",
            "2           2023-11-10               Reforço            103   \n",
            "3           2021-11-30               2ª Dose             87   \n",
            "4           2022-01-03               Reforço             87   \n",
            "\n",
            "                                 vacina_nome sistema_origem  \n",
            "0  COVID-19 ASTRAZENECA/FIOCRUZ - COVISHIELD       Novo PNI  \n",
            "1  COVID-19 ASTRAZENECA/FIOCRUZ - COVISHIELD       Novo PNI  \n",
            "2      COVID-19 PFIZER - COMIRNATY BIVALENTE       Novo PNI  \n",
            "3                COVID-19 PFIZER - COMIRNATY       Novo PNI  \n",
            "4                COVID-19 PFIZER - COMIRNATY       Novo PNI  \n",
            "\n",
            "[5 rows x 32 columns]\n"
          ]
        }
      ]
    },
    {
      "cell_type": "code",
      "execution_count": 18,
      "metadata": {
        "id": "SC9YMWLSC8-6",
        "colab": {
          "base_uri": "https://localhost:8080/"
        },
        "outputId": "a67b871c-4f30-47b4-a762-322192858ce8"
      },
      "outputs": [
        {
          "output_type": "stream",
          "name": "stdout",
          "text": [
            "Número de vacinas registradas: 10363\n"
          ]
        }
      ],
      "source": [
        "# 1) Sua solução aqui\n",
        "\n",
        "num_vacinas = df.shape[0]\n",
        "print(\"Número de vacinas registradas:\", num_vacinas)"
      ]
    },
    {
      "cell_type": "code",
      "execution_count": 19,
      "metadata": {
        "id": "PMztY1RlC8-7",
        "colab": {
          "base_uri": "https://localhost:8080/"
        },
        "outputId": "3ae13b53-82ea-4170-a524-5c25687d694e"
      },
      "outputs": [
        {
          "output_type": "stream",
          "name": "stdout",
          "text": [
            "Número de pacientes vacinados: 10316\n"
          ]
        }
      ],
      "source": [
        "# 2)\n",
        "num_pacientes = df['paciente_id'].nunique()\n",
        "print(\"Número de pacientes vacinados:\", num_pacientes)"
      ]
    },
    {
      "cell_type": "code",
      "execution_count": 34,
      "metadata": {
        "id": "V_wr--3JC8-7",
        "colab": {
          "base_uri": "https://localhost:8080/"
        },
        "outputId": "f24a3b20-8696-45bf-83b6-9075035e1c59"
      },
      "outputs": [
        {
          "output_type": "stream",
          "name": "stdout",
          "text": [
            "Número de pacientes que tomaram a primeira dose: 3827\n"
          ]
        }
      ],
      "source": [
        "# 3)\n",
        "num_primeira_dose = df[df['vacina_descricao_dose'].str.contains('1ª Dose')]['paciente_id'].nunique()\n",
        "print(\"Número de pacientes que tomaram a primeira dose:\", num_primeira_dose)"
      ]
    },
    {
      "cell_type": "code",
      "execution_count": 38,
      "metadata": {
        "id": "SPHgIxtcC8-7",
        "colab": {
          "base_uri": "https://localhost:8080/"
        },
        "outputId": "b591ebf1-7ca0-477d-9357-fa3008b2fa23"
      },
      "outputs": [
        {
          "output_type": "stream",
          "name": "stdout",
          "text": [
            "Número de pacientes que tomaram a primeira dose (alternativa): 3827\n"
          ]
        }
      ],
      "source": [
        "# 3) solução alternativa\n",
        "num_primeira_dose_alternativa = df[df['vacina_descricao_dose'].str.contains(\"1ª Dose\", na=False)]['paciente_id'].nunique()\n",
        "print(\"Número de pacientes que tomaram a primeira dose (alternativa):\", num_primeira_dose_alternativa)"
      ]
    },
    {
      "cell_type": "code",
      "execution_count": 23,
      "metadata": {
        "id": "S6ab9ExEC8-7",
        "colab": {
          "base_uri": "https://localhost:8080/"
        },
        "outputId": "48bccf35-5792-4164-e5ca-07c418b185fc"
      },
      "outputs": [
        {
          "output_type": "stream",
          "name": "stdout",
          "text": [
            "Número de pacientes com menos de 18 anos vacinados: 2035\n"
          ]
        }
      ],
      "source": [
        "# 4)\n",
        "df['paciente_dataNascimento'] = pd.to_datetime(df['paciente_dataNascimento'], errors='coerce')\n",
        "df['data_aplicacao'] = pd.to_datetime(df['vacina_dataAplicacao'], errors='coerce')\n",
        "df['idade'] = (df['data_aplicacao'] - df['paciente_dataNascimento']).dt.days // 365\n",
        "\n",
        "num_menos_18 = df[df['idade'] < 18]['paciente_id'].nunique()\n",
        "print(\"Número de pacientes com menos de 18 anos vacinados:\", num_menos_18)"
      ]
    },
    {
      "cell_type": "code",
      "execution_count": 24,
      "metadata": {
        "id": "PVrY_-qlC8-8",
        "colab": {
          "base_uri": "https://localhost:8080/"
        },
        "outputId": "7d5e481d-a02e-4f6e-a049-01c2824ddfcb"
      },
      "outputs": [
        {
          "output_type": "stream",
          "name": "stdout",
          "text": [
            "Número de estabelecimentos que aplicaram vacina no Acre: 47\n"
          ]
        }
      ],
      "source": [
        "# 5)\n",
        "num_estabelecimentos = df['estabelecimento_razaoSocial'].nunique()\n",
        "print(\"Número de estabelecimentos que aplicaram vacina no Acre:\", num_estabelecimentos)"
      ]
    },
    {
      "cell_type": "markdown",
      "metadata": {
        "id": "LH1LSYvGC8-8"
      },
      "source": [
        "## 4) Vacinação II\n",
        "Gere um *DataFrame* que contenha somente os estabelecimentos que aplicaram vcinas a menores de 18 anos. Nesse *DataFrame* devem conter somente os dados dos estabelecimentos, mais uma coluna sendo a quantidade de vacinas que o estabelecimento aplicou a menores de 18 anos.  \n",
        "  \n",
        "1. crie uma cópia do *DataFrame* original, contendo somente os registros de vacinas realizadas a menores de 18 anos.  \n",
        "2. crie uma lista das colunas desse *DataFrame* com o atributo de *DataFrame* **.columns()**  \n",
        "3. Nesse *DataFrame* faça uma contagem do campo ```vacina_categoria_nome```.\n",
        "3. a partir da lista de colunas, escolha somente aquelas que são referentes ao estabelecimento, faça uma lista com esses valores.  \n",
        "4. usando o método *.loc*, selecione somente essas variáveis  \n",
        "5. Aplique o método **.drop_duplicates** e crie uma lista com uma linha para cada estabelecimento, com os dados do estabelecimento  "
      ]
    },
    {
      "cell_type": "code",
      "execution_count": 41,
      "metadata": {
        "id": "3ojs12vUC8-8",
        "colab": {
          "base_uri": "https://localhost:8080/"
        },
        "outputId": "bd8292b5-298d-4ba6-eeb7-d6dbea37aa21"
      },
      "outputs": [
        {
          "output_type": "stream",
          "name": "stdout",
          "text": [
            "                                     document_id  \\\n",
            "3      7c33b28b-780e-4a83-968b-a0d3940ae8eb-i0b0   \n",
            "5      0014cc5c-b347-4e88-a6c8-5b2e87f8334c-i0b0   \n",
            "6      2f29a59f-0a46-4554-a7b7-e9301915a013-i0b0   \n",
            "9      41abefb5-9950-4a22-842e-e16e4ccc50eb-i0b0   \n",
            "11     6d6ed0ed-dde4-4aaf-8198-38e34c629ebc-i0b0   \n",
            "...                                          ...   \n",
            "10344  46948205-5469-47a9-bd44-d80d07192199-i0b0   \n",
            "10346  4e915a69-fc48-4fef-aa93-765625c60559-i0b0   \n",
            "10352  1b893485-6e93-46e0-b916-641b83af9cd4-i0b0   \n",
            "10357  589bc3bd-7f00-420f-9656-e9efb50f3831-i0b0   \n",
            "10359  43fd869f-90d9-46f1-afd3-8699aa7d3421-i0b0   \n",
            "\n",
            "                                             paciente_id  paciente_idade  \\\n",
            "3      73525ab29fc695a87ca0af4465983624faac52338bf701...              17   \n",
            "5      a791cfce2bd3d016ffbce033ceceb4f834859ab0faf9f3...              17   \n",
            "6      02f8fbfda5ffb1edbbc08c2e95869b0cb8024554a06c2a...              15   \n",
            "9      a34026633848850fd17fc6d641f16e636026fd44bea075...               7   \n",
            "11     4c3fe663cb600dddac26fb694aa1aa1fc931c66879e92c...              13   \n",
            "...                                                  ...             ...   \n",
            "10344  de54818df198fba0aac8a1357c5299d24e4fcaeadd0ff7...              15   \n",
            "10346  c7142846cbed018ace5f0f86d53d22b45e7663130f9043...               6   \n",
            "10352  8f138b7996194ac798943994064572d68ba250d6c9fdbb...              14   \n",
            "10357  11308983e1d34eae2f194116efdd1300e101f5f7fe50e9...              16   \n",
            "10359  38696e6f31a444d80d12b7a867da19b209ee804e3e9956...              12   \n",
            "\n",
            "      paciente_dataNascimento paciente_enumSexoBiologico  \\\n",
            "3                  2004-01-06                          F   \n",
            "5                  2003-12-19                          F   \n",
            "6                  2006-01-14                          M   \n",
            "9                  2014-09-01                          M   \n",
            "11                 2007-12-29                          F   \n",
            "...                       ...                        ...   \n",
            "10344              2006-02-22                          M   \n",
            "10346              2015-04-24                          F   \n",
            "10352              2006-11-08                          F   \n",
            "10357              2004-12-18                          M   \n",
            "10359              2009-11-15                          F   \n",
            "\n",
            "       paciente_racaCor_codigo paciente_racaCor_valor  \\\n",
            "3                            4                AMARELA   \n",
            "5                            3                  PARDA   \n",
            "6                            1                 BRANCA   \n",
            "9                            3                  PARDA   \n",
            "11                           3                  PARDA   \n",
            "...                        ...                    ...   \n",
            "10344                       99         SEM INFORMACAO   \n",
            "10346                        3                  PARDA   \n",
            "10352                        4                AMARELA   \n",
            "10357                       99         SEM INFORMACAO   \n",
            "10359                        3                  PARDA   \n",
            "\n",
            "       paciente_endereco_coIbgeMunicipio  paciente_endereco_coPais  \\\n",
            "3                               120050.0                      10.0   \n",
            "5                               120040.0                      10.0   \n",
            "6                               120040.0                      10.0   \n",
            "9                               120039.0                      10.0   \n",
            "11                              120040.0                      10.0   \n",
            "...                                  ...                       ...   \n",
            "10344                           120034.0                      10.0   \n",
            "10346                           120070.0                      10.0   \n",
            "10352                           120060.0                      10.0   \n",
            "10357                           120040.0                      10.0   \n",
            "10359                           120060.0                      10.0   \n",
            "\n",
            "      paciente_endereco_nmMunicipio  ... vacina_lote vacina_fabricante_nome  \\\n",
            "3                    SENA MADUREIRA  ...      FG3525                 PFIZER   \n",
            "5                        RIO BRANCO  ...      FH4750                 PFIZER   \n",
            "6                        RIO BRANCO  ...      FF8840                 PFIZER   \n",
            "9                      PORTO WALTER  ...     210320A       SINOVAC/BUTANTAN   \n",
            "11                       RIO BRANCO  ...      FF8840                 PFIZER   \n",
            "...                             ...  ...         ...                    ...   \n",
            "10344                 MANOEL URBANO  ...      FD7207                 PFIZER   \n",
            "10346                        XAPURI  ...  B202106077       SINOVAC/BUTANTAN   \n",
            "10352                      TARAUACA  ...      FD7208                 PFIZER   \n",
            "10357                    RIO BRANCO  ...      FF8840                 PFIZER   \n",
            "10359                      TARAUACA  ...      FF8848                 PFIZER   \n",
            "\n",
            "       vacina_fabricante_referencia vacina_dataAplicacao  \\\n",
            "3       Organization/00394544000851           2021-11-30   \n",
            "5                Organization/28290           2021-12-02   \n",
            "6       Organization/00394544000851           2021-10-01   \n",
            "9                  Organization/152           2022-02-01   \n",
            "11      Organization/00394544000851           2021-10-08   \n",
            "...                             ...                  ...   \n",
            "10344   Organization/00394544000851           2021-08-10   \n",
            "10346                           NaN           2022-03-23   \n",
            "10352   Organization/00394544000851           2021-08-28   \n",
            "10357   Organization/00394544000851           2021-09-28   \n",
            "10359            Organization/28290           2022-03-09   \n",
            "\n",
            "       vacina_descricao_dose vacina_codigo  \\\n",
            "3                    2ª Dose            87   \n",
            "5                    2ª Dose            87   \n",
            "6                    2ª Dose            87   \n",
            "9                    1ª Dose            86   \n",
            "11                   1ª Dose            87   \n",
            "...                      ...           ...   \n",
            "10344                1ª Dose            87   \n",
            "10346                1ª Dose            86   \n",
            "10352                1ª Dose            87   \n",
            "10357                2ª Dose            87   \n",
            "10359                1ª Dose            87   \n",
            "\n",
            "                                 vacina_nome                 sistema_origem  \\\n",
            "3                COVID-19 PFIZER - COMIRNATY                       Novo PNI   \n",
            "5                COVID-19 PFIZER - COMIRNATY                       Novo PNI   \n",
            "6                COVID-19 PFIZER - COMIRNATY                       Novo PNI   \n",
            "9      COVID-19 SINOVAC/BUTANTAN - CORONAVAC                       Novo PNI   \n",
            "11               COVID-19 PFIZER - COMIRNATY                       Novo PNI   \n",
            "...                                      ...                            ...   \n",
            "10344            COVID-19 PFIZER - COMIRNATY                       Novo PNI   \n",
            "10346  COVID-19 SINOVAC/BUTANTAN - CORONAVAC  ESUS APS - NACIONAL (OFFLINE)   \n",
            "10352            COVID-19 PFIZER - COMIRNATY                       Novo PNI   \n",
            "10357            COVID-19 PFIZER - COMIRNATY                       Novo PNI   \n",
            "10359            COVID-19 PFIZER - COMIRNATY                       Novo PNI   \n",
            "\n",
            "      data_aplicacao idade  \n",
            "3         2021-11-30    17  \n",
            "5         2021-12-02    17  \n",
            "6         2021-10-01    15  \n",
            "9         2022-02-01     7  \n",
            "11        2021-10-08    13  \n",
            "...              ...   ...  \n",
            "10344     2021-08-10    15  \n",
            "10346     2022-03-23     6  \n",
            "10352     2021-08-28    14  \n",
            "10357     2021-09-28    16  \n",
            "10359     2022-03-09    12  \n",
            "\n",
            "[2042 rows x 34 columns]\n"
          ]
        }
      ],
      "source": [
        "# 1)\n",
        "df_menores_18 = df[df['idade'] < 18].copy()\n",
        "print(df_menores_18)"
      ]
    },
    {
      "cell_type": "code",
      "source": [
        "df_menores_18 = df_menores_18.rename(columns={'estalecimento_noFantasia': 'estabelecimento_nomeFantasia'})"
      ],
      "metadata": {
        "id": "4ix9tHUbnbXz"
      },
      "execution_count": 54,
      "outputs": []
    },
    {
      "cell_type": "code",
      "execution_count": 55,
      "metadata": {
        "id": "sLyevPRBC8-8",
        "colab": {
          "base_uri": "https://localhost:8080/"
        },
        "outputId": "96dad800-052a-4d32-b85f-619e94cd4226"
      },
      "outputs": [
        {
          "output_type": "stream",
          "name": "stdout",
          "text": [
            "Colunas do DataFrame de menores de 18 anos: ['document_id', 'paciente_id', 'paciente_idade', 'paciente_dataNascimento', 'paciente_enumSexoBiologico', 'paciente_racaCor_codigo', 'paciente_racaCor_valor', 'paciente_endereco_coIbgeMunicipio', 'paciente_endereco_coPais', 'paciente_endereco_nmMunicipio', 'paciente_endereco_nmPais', 'paciente_endereco_uf', 'paciente_endereco_cep', 'paciente_nacionalidade_enumNacionalidade', 'estabelecimento_valor', 'estabelecimento_razaoSocial', 'estabelecimento_nomeFantasia', 'estabelecimento_municipio_codigo', 'estabelecimento_municipio_nome', 'estabelecimento_uf', 'vacina_grupoAtendimento_codigo', 'vacina_grupoAtendimento_nome', 'vacina_categoria_codigo', 'vacina_categoria_nome', 'vacina_lote', 'vacina_fabricante_nome', 'vacina_fabricante_referencia', 'vacina_dataAplicacao', 'vacina_descricao_dose', 'vacina_codigo', 'vacina_nome', 'sistema_origem', 'data_aplicacao', 'idade']\n"
          ]
        }
      ],
      "source": [
        "# 2)\n",
        "colunas_menores_18 = df_menores_18.columns.tolist()\n",
        "print(\"Colunas do DataFrame de menores de 18 anos:\", colunas_menores_18)"
      ]
    },
    {
      "cell_type": "code",
      "execution_count": 56,
      "metadata": {
        "id": "lZAW-Dp8C8-8",
        "colab": {
          "base_uri": "https://localhost:8080/"
        },
        "outputId": "728472f2-3448-4315-bf8b-ed13d2b9aa4b"
      },
      "outputs": [
        {
          "output_type": "stream",
          "name": "stdout",
          "text": [
            "Contagem de vacina_categoria_nome:\n",
            " vacina_categoria_nome\n",
            "Faixa Etária                                      1202\n",
            "Povos Indígenas                                    131\n",
            "Outros                                             114\n",
            "Povos e Comunidades Tradicionais                    20\n",
            "Trabalhadores de Saúde                               9\n",
            "Gestantes                                            3\n",
            "Pessoas de 60 anos ou mais institucionalizadas       1\n",
            "Comorbidades                                         1\n",
            "Name: count, dtype: int64\n"
          ]
        }
      ],
      "source": [
        "# 3)\n",
        "contagem_vacina_categoria = df_menores_18['vacina_categoria_nome'].value_counts()\n",
        "print(\"Contagem de vacina_categoria_nome:\\n\", contagem_vacina_categoria)"
      ]
    },
    {
      "cell_type": "code",
      "execution_count": 58,
      "metadata": {
        "id": "xxYsxrxAC8-8",
        "colab": {
          "base_uri": "https://localhost:8080/"
        },
        "outputId": "d7fd2786-4ea5-4f01-bca7-4fdc29c5fe74"
      },
      "outputs": [
        {
          "output_type": "stream",
          "name": "stdout",
          "text": [
            "Colunas referentes aos estabelecimentos: ['estabelecimento_valor', 'estabelecimento_razaoSocial', 'estabelecimento_nomeFantasia', 'estabelecimento_municipio_nome', 'estabelecimento_uf']\n"
          ]
        }
      ],
      "source": [
        "# 4)\n",
        "colunas_estabelecimento = [\n",
        "    'estabelecimento_valor', 'estabelecimento_razaoSocial',\n",
        "    'estabelecimento_nomeFantasia', 'estabelecimento_municipio_nome',\n",
        "    'estabelecimento_uf'\n",
        "]\n",
        "print(\"Colunas referentes aos estabelecimentos:\", colunas_estabelecimento)"
      ]
    },
    {
      "cell_type": "code",
      "execution_count": 60,
      "metadata": {
        "id": "vaX2x_0rC8-8",
        "colab": {
          "base_uri": "https://localhost:8080/"
        },
        "outputId": "cfad0ff8-ee3d-47b6-9021-e5e98f79eb42"
      },
      "outputs": [
        {
          "output_type": "stream",
          "name": "stdout",
          "text": [
            "       estabelecimento_valor             estabelecimento_razaoSocial  \\\n",
            "3                    3449432  PREFEITURA MUNICIPAL DE SENA MADUREIRA   \n",
            "5                    6917291      PREFEITURA MUNICIPAL DE RIO BRANCO   \n",
            "6                    6917291      PREFEITURA MUNICIPAL DE RIO BRANCO   \n",
            "9                    2001748    PREFEITURA MUNICIPAL DE PORTO WALTER   \n",
            "11                   2002876            SECRETARIA MUNCIPAL DE SAUDE   \n",
            "...                      ...                                     ...   \n",
            "10344                2000954   PREFEITURA MUNICIPAL DE MANUEL URBANO   \n",
            "10346                2001225          PREFEITURA MUNICIPAL DE XAPURI   \n",
            "10352                3810771        PREFEITURA MUNICIPAL DE TARAUACA   \n",
            "10357                6917291      PREFEITURA MUNICIPAL DE RIO BRANCO   \n",
            "10359                3810771        PREFEITURA MUNICIPAL DE TARAUACA   \n",
            "\n",
            "                            estabelecimento_nomeFantasia  \\\n",
            "3      UNIDADE BASICA DE SAUDE FLORIANO FLORENTINO M ...   \n",
            "5      DEPARTAMENTO DE VIGILANCIA EPIDEMIOLOGICA E AM...   \n",
            "6      DEPARTAMENTO DE VIGILANCIA EPIDEMIOLOGICA E AM...   \n",
            "9                          UBS VICENTE VARELA DE ALMEIDA   \n",
            "11      CENTRO DE SAUDE RAIMUNDA PORFIRIO DE BRITO RAMOS   \n",
            "...                                                  ...   \n",
            "10344           UNIDADE DE SAUDE INACIO RIBEIRO DA SILVA   \n",
            "10346   UNIDADE DE SAUDE DA FAMILIA JOSE FRANCISCO SILVA   \n",
            "10352  UNIDADE DE S DA FAMILIA DR JOSE LEONCIO GOMES ...   \n",
            "10357  DEPARTAMENTO DE VIGILANCIA EPIDEMIOLOGICA E AM...   \n",
            "10359  UNIDADE DE S DA FAMILIA DR JOSE LEONCIO GOMES ...   \n",
            "\n",
            "      estabelecimento_municipio_nome estabelecimento_uf  \n",
            "3                     SENA MADUREIRA                 AC  \n",
            "5                         RIO BRANCO                 AC  \n",
            "6                         RIO BRANCO                 AC  \n",
            "9                       PORTO WALTER                 AC  \n",
            "11                            BUJARI                 AC  \n",
            "...                              ...                ...  \n",
            "10344                  MANOEL URBANO                 AC  \n",
            "10346                         XAPURI                 AC  \n",
            "10352                       TARAUACA                 AC  \n",
            "10357                     RIO BRANCO                 AC  \n",
            "10359                       TARAUACA                 AC  \n",
            "\n",
            "[2042 rows x 5 columns]\n"
          ]
        }
      ],
      "source": [
        "# 5)\n",
        "df_estabelecimentos_menores_18 = df_menores_18.loc[:, colunas_estabelecimento]\n",
        "print(df_estabelecimentos_menores_18)"
      ]
    },
    {
      "cell_type": "code",
      "source": [
        "# 6)\n",
        "df_estabelecimentos_unicos = df_estabelecimentos_menores_18.drop_duplicates()\n",
        "print(df_estabelecimentos_unicos)"
      ],
      "metadata": {
        "colab": {
          "base_uri": "https://localhost:8080/"
        },
        "id": "CxmBT-3fnx67",
        "outputId": "fc4c2a25-98fb-491c-b4fd-131c4be3e726"
      },
      "execution_count": 61,
      "outputs": [
        {
          "output_type": "stream",
          "name": "stdout",
          "text": [
            "       estabelecimento_valor              estabelecimento_razaoSocial  \\\n",
            "3                    3449432   PREFEITURA MUNICIPAL DE SENA MADUREIRA   \n",
            "5                    6917291       PREFEITURA MUNICIPAL DE RIO BRANCO   \n",
            "9                    2001748     PREFEITURA MUNICIPAL DE PORTO WALTER   \n",
            "11                   2002876             SECRETARIA MUNCIPAL DE SAUDE   \n",
            "30                   3810771         PREFEITURA MUNICIPAL DE TARAUACA   \n",
            "...                      ...                                      ...   \n",
            "8873                 2002302  PREFEITURA MUNICIPAL DE CRUZEIRO DO SUL   \n",
            "9105                 2003287                  MUNICIPIO DE RIO BRANCO   \n",
            "9167                 3462366         PREFEITURA MUNICIPAL DE TARAUACA   \n",
            "9328                 2002299  PREFEITURA MUNICIPAL DE CRUZEIRO DO SUL   \n",
            "10025                2000369  PREFEITURA MUNICIPAL DE CRUZEIRO DO SUL   \n",
            "\n",
            "                            estabelecimento_nomeFantasia  \\\n",
            "3      UNIDADE BASICA DE SAUDE FLORIANO FLORENTINO M ...   \n",
            "5      DEPARTAMENTO DE VIGILANCIA EPIDEMIOLOGICA E AM...   \n",
            "9                          UBS VICENTE VARELA DE ALMEIDA   \n",
            "11      CENTRO DE SAUDE RAIMUNDA PORFIRIO DE BRITO RAMOS   \n",
            "30     UNIDADE DE S DA FAMILIA DR JOSE LEONCIO GOMES ...   \n",
            "...                                                  ...   \n",
            "8873                         POSTO DE SAUDE VITAL BRASIL   \n",
            "9105                               USF MARIANO GONZAGA I   \n",
            "9167   UNIDADE DE SAUDE DA FAMILIA MARIA ESPANHOL DA ...   \n",
            "9328                UNIDADE DE SAUDE ADALTO JOSE BATISTA   \n",
            "10025  UNIDADE DA SAUDE DA FAM JOSE MATHEUS ARNALDO D...   \n",
            "\n",
            "      estabelecimento_municipio_nome estabelecimento_uf  \n",
            "3                     SENA MADUREIRA                 AC  \n",
            "5                         RIO BRANCO                 AC  \n",
            "9                       PORTO WALTER                 AC  \n",
            "11                            BUJARI                 AC  \n",
            "30                          TARAUACA                 AC  \n",
            "...                              ...                ...  \n",
            "8873                 CRUZEIRO DO SUL                 AC  \n",
            "9105                      RIO BRANCO                 AC  \n",
            "9167                        TARAUACA                 AC  \n",
            "9328                 CRUZEIRO DO SUL                 AC  \n",
            "10025                CRUZEIRO DO SUL                 AC  \n",
            "\n",
            "[139 rows x 5 columns]\n"
          ]
        }
      ]
    },
    {
      "cell_type": "code",
      "source": [
        "df_contagem_vacinas = df_menores_18.groupby(colunas_estabelecimento).size().reset_index(name='quantidade_vacinas')\n",
        "print(\"Estabelecimentos que aplicaram vacinas a menores de 18 anos com quantidade de vacinas:\\n\", df_contagem_vacinas)"
      ],
      "metadata": {
        "colab": {
          "base_uri": "https://localhost:8080/"
        },
        "id": "ktJwJNPWoC3w",
        "outputId": "abbd4099-3f59-4e25-828d-7e5529b9d992"
      },
      "execution_count": 62,
      "outputs": [
        {
          "output_type": "stream",
          "name": "stdout",
          "text": [
            "Estabelecimentos que aplicaram vacinas a menores de 18 anos com quantidade de vacinas:\n",
            "      estabelecimento_valor                        estabelecimento_razaoSocial  \\\n",
            "0                   117382                                USF LIDIA RODRIGUES   \n",
            "1                   468363                                      REDE DE FRIOS   \n",
            "2                   837822                           MUNICIPIO DE MANCIO LIMA   \n",
            "3                   899593                           MUNICIPIO DE MANCIO LIMA   \n",
            "4                   924490                      PREFEITURA MUNICIPAL DE FEIJO   \n",
            "..                     ...                                                ...   \n",
            "134                9294449           PREFEITURA MUNICIPAL DE SENADOR GUIOMARD   \n",
            "135                9463208                            MUNICIPIO DE RIO BRANCO   \n",
            "136                9542566                          PREFEITURA DE MANCIO LIMA   \n",
            "137                9648968  DISTRITO SANITARIO ESPECIAL DE SAUDE INDIGENA ...   \n",
            "138                9908382                                USF AEROPORTO VELHO   \n",
            "\n",
            "                          estabelecimento_nomeFantasia  \\\n",
            "0                                  USF LIDIA RODRIGUES   \n",
            "1                                        REDE DE FRIOS   \n",
            "2                         UBS MARIA RODRIGUES DE MATOS   \n",
            "3                           UBS LINA BANDEIRA DA ROCHA   \n",
            "4    UNIDADE MOVEL DE SAUDE FLUVIAL PEDRO RODRIGUES...   \n",
            "..                                                 ...   \n",
            "134       UNIDADE BASICA DE SAUDE PEDRO RABELO DE LIMA   \n",
            "135                   USF FRANCISCO CARNEIRO TIO CHICO   \n",
            "136                  UBS RAIMUNDO REGINALDO DE ALMEIDA   \n",
            "137                      UNIDADE BASICA DE SAUDE BUACU   \n",
            "138                                USF AEROPORTO VELHO   \n",
            "\n",
            "    estabelecimento_municipio_nome estabelecimento_uf  quantidade_vacinas  \n",
            "0                       RIO BRANCO                 AC                   2  \n",
            "1                      MANCIO LIMA                 AC                  24  \n",
            "2                      MANCIO LIMA                 AC                   1  \n",
            "3                      MANCIO LIMA                 AC                   1  \n",
            "4                            FEIJO                 AC                  27  \n",
            "..                             ...                ...                 ...  \n",
            "134               SENADOR GUIOMARD                 AC                   1  \n",
            "135                     RIO BRANCO                 AC                   1  \n",
            "136                    MANCIO LIMA                 AC                   1  \n",
            "137                  MANOEL URBANO                 AC                   1  \n",
            "138                     RIO BRANCO                 AC                   1  \n",
            "\n",
            "[139 rows x 6 columns]\n"
          ]
        }
      ]
    }
  ],
  "metadata": {
    "kernelspec": {
      "display_name": "Python 3",
      "language": "python",
      "name": "python3"
    },
    "language_info": {
      "codemirror_mode": {
        "name": "ipython",
        "version": 3
      },
      "file_extension": ".py",
      "mimetype": "text/x-python",
      "name": "python",
      "nbconvert_exporter": "python",
      "pygments_lexer": "ipython3",
      "version": "3.8.5"
    },
    "toc": {
      "base_numbering": 1,
      "nav_menu": {},
      "number_sections": false,
      "sideBar": true,
      "skip_h1_title": true,
      "title_cell": "Índice",
      "title_sidebar": "Conteúdo",
      "toc_cell": false,
      "toc_position": {},
      "toc_section_display": true,
      "toc_window_display": false
    },
    "varInspector": {
      "cols": {
        "lenName": 16,
        "lenType": 16,
        "lenVar": 40
      },
      "kernels_config": {
        "python": {
          "delete_cmd_postfix": "",
          "delete_cmd_prefix": "del ",
          "library": "var_list.py",
          "varRefreshCmd": "print(var_dic_list())"
        },
        "r": {
          "delete_cmd_postfix": ") ",
          "delete_cmd_prefix": "rm(",
          "library": "var_list.r",
          "varRefreshCmd": "cat(var_dic_list()) "
        }
      },
      "types_to_exclude": [
        "module",
        "function",
        "builtin_function_or_method",
        "instance",
        "_Feature"
      ],
      "window_display": false
    },
    "colab": {
      "provenance": []
    }
  },
  "nbformat": 4,
  "nbformat_minor": 0
}